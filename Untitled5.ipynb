{
  "nbformat": 4,
  "nbformat_minor": 0,
  "metadata": {
    "colab": {
      "provenance": [],
      "authorship_tag": "ABX9TyO3C8go0yXEvsOVO5kzPkDN",
      "include_colab_link": true
    },
    "kernelspec": {
      "name": "python3",
      "display_name": "Python 3"
    },
    "language_info": {
      "name": "python"
    }
  },
  "cells": [
    {
      "cell_type": "markdown",
      "metadata": {
        "id": "view-in-github",
        "colab_type": "text"
      },
      "source": [
        "<a href=\"https://colab.research.google.com/github/ss0ng22/Study/blob/main/Untitled5.ipynb\" target=\"_parent\"><img src=\"https://colab.research.google.com/assets/colab-badge.svg\" alt=\"Open In Colab\"/></a>"
      ]
    },
    {
      "cell_type": "code",
      "execution_count": 2,
      "metadata": {
        "id": "Oh3hhf55kbc4"
      },
      "outputs": [],
      "source": [
        "import pandas as pd\n",
        "import numpy as np\n",
        "import matplotlib.pyplot as plt\n"
      ]
    },
    {
      "cell_type": "code",
      "source": [
        "df_A = [150, 160, 170, 180, 190]\n",
        "df_B = [155, 165, 175, 185, 195]"
      ],
      "metadata": {
        "id": "54_bGxKDkfkl"
      },
      "execution_count": 2,
      "outputs": []
    },
    {
      "cell_type": "code",
      "source": [
        "from scipy import stats\n",
        "rng = np.random.default_rng()"
      ],
      "metadata": {
        "id": "fWERBO6klZbK"
      },
      "execution_count": 3,
      "outputs": []
    },
    {
      "cell_type": "code",
      "source": [
        "statistic, p_value = ttest_ind(B, A, alternative='greater', equal_var=True)\n",
        "print(f\"statistic: {statistic:.5f}\")\n",
        "print(f\"p_value : {p_value:.5f}\")"
      ],
      "metadata": {
        "colab": {
          "base_uri": "https://localhost:8080/",
          "height": 205
        },
        "id": "jJT-J7Dc0MOv",
        "outputId": "4f6f814b-0268-4d21-fea2-56b44dd4e423"
      },
      "execution_count": 3,
      "outputs": [
        {
          "output_type": "error",
          "ename": "NameError",
          "evalue": "ignored",
          "traceback": [
            "\u001b[0;31m---------------------------------------------------------------------------\u001b[0m",
            "\u001b[0;31mNameError\u001b[0m                                 Traceback (most recent call last)",
            "\u001b[0;32m<ipython-input-3-b60b45e151b9>\u001b[0m in \u001b[0;36m<module>\u001b[0;34m\u001b[0m\n\u001b[0;32m----> 1\u001b[0;31m \u001b[0mstatistic\u001b[0m\u001b[0;34m,\u001b[0m \u001b[0mp_value\u001b[0m \u001b[0;34m=\u001b[0m \u001b[0mttest_ind\u001b[0m\u001b[0;34m(\u001b[0m\u001b[0mB\u001b[0m\u001b[0;34m,\u001b[0m \u001b[0mA\u001b[0m\u001b[0;34m,\u001b[0m \u001b[0malternative\u001b[0m\u001b[0;34m=\u001b[0m\u001b[0;34m'greater'\u001b[0m\u001b[0;34m,\u001b[0m \u001b[0mequal_var\u001b[0m\u001b[0;34m=\u001b[0m\u001b[0;32mTrue\u001b[0m\u001b[0;34m)\u001b[0m\u001b[0;34m\u001b[0m\u001b[0;34m\u001b[0m\u001b[0m\n\u001b[0m\u001b[1;32m      2\u001b[0m \u001b[0mprint\u001b[0m\u001b[0;34m(\u001b[0m\u001b[0;34mf\"statistic: {statistic:.5f}\"\u001b[0m\u001b[0;34m)\u001b[0m\u001b[0;34m\u001b[0m\u001b[0;34m\u001b[0m\u001b[0m\n\u001b[1;32m      3\u001b[0m \u001b[0mprint\u001b[0m\u001b[0;34m(\u001b[0m\u001b[0;34mf\"p_value : {p_value:.5f}\"\u001b[0m\u001b[0;34m)\u001b[0m\u001b[0;34m\u001b[0m\u001b[0;34m\u001b[0m\u001b[0m\n",
            "\u001b[0;31mNameError\u001b[0m: name 'ttest_ind' is not defined"
          ]
        }
      ]
    },
    {
      "cell_type": "code",
      "source": [
        "from scipy.stats import ttest_ind  # 패키지 scipy의 stats 모듈에서 ttest_ind함수를 불러옴\n",
        "\n",
        "A = [150, 160, 170, 180, 190]      # 두 조의 키 데이터를 입력\n",
        "B = [155, 165, 175, 185, 195]\n",
        "statistic, p_value = ttest_ind(A, B, equal_var=True)    # 두 조의 분산이 같다는 가정 지정...variance equal.\n",
        "print(f\"statistic: {statistic:.5f}\")\n",
        "print(f\"p_value : {p_value:.5f}\")\n"
      ],
      "metadata": {
        "colab": {
          "base_uri": "https://localhost:8080/"
        },
        "id": "bUKJC3vWEOns",
        "outputId": "e613068a-b5c0-4d77-cdce-52501fd3e271"
      },
      "execution_count": 5,
      "outputs": [
        {
          "output_type": "stream",
          "name": "stdout",
          "text": [
            "statistic: -0.50000\n",
            "p_value : 0.63054\n"
          ]
        }
      ]
    },
    {
      "cell_type": "code",
      "source": [
        "from scipy.stats import ttest_ind  # 패키지 scipy의 stats 모듈에서 ttest_ind함수를 불러옴\n",
        "\n",
        "A = [150, 160, 170, 180, 190]      # 두 조의 키 데이터를 입력\n",
        "B = [155, 165, 175, 185, 195]\n",
        "statistic, p_value = ttest_ind(A, B,alternative = 'greater',equal_var=True )    # 두 조의 분산이 같다는 가정 지정...variance equal.\n",
        "print(f\"statistic: {statistic:.5f}\")\n",
        "print(f\"p_value : {p_value:.5f}\")"
      ],
      "metadata": {
        "colab": {
          "base_uri": "https://localhost:8080/"
        },
        "id": "j0i7KcaYESUN",
        "outputId": "cf30930d-9072-4c02-8676-59451815b33d"
      },
      "execution_count": 6,
      "outputs": [
        {
          "output_type": "stream",
          "name": "stdout",
          "text": [
            "statistic: -0.50000\n",
            "p_value : 0.68473\n"
          ]
        }
      ]
    },
    {
      "cell_type": "code",
      "source": [
        "from scipy.stats import ttest_ind  # 패키지 scipy의 stats 모듈에서 ttest_ind함수를 불러옴\n",
        "\n",
        "A = [150, 160, 170, 180, 190]      # 두 조의 키 데이터를 입력\n",
        "B = [155, 165, 175, 185, 195]\n",
        "statistic, p_value = ttest_ind(B, A,alternative = 'greater',equal_var=True )    # 두 조의 분산이 같다는 가정 지정...variance equal.\n",
        "print(f\"statistic: {statistic:.5f}\")\n",
        "print(f\"p_value : {p_value:.5f}\")"
      ],
      "metadata": {
        "colab": {
          "base_uri": "https://localhost:8080/"
        },
        "id": "LClfa71ZFy50",
        "outputId": "7c71c0e2-5307-48c1-b037-81ba10292b7f"
      },
      "execution_count": 7,
      "outputs": [
        {
          "output_type": "stream",
          "name": "stdout",
          "text": [
            "statistic: 0.50000\n",
            "p_value : 0.31527\n"
          ]
        }
      ]
    }
  ]
}